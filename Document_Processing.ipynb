{
 "cells": [
  {
   "cell_type": "code",
   "execution_count": null,
   "id": "d8a012f7",
   "metadata": {},
   "outputs": [],
   "source": [
    "!pip install PyMuPDF \n",
    "!pip install tqdm  \n",
    "!pip install accelerate\n",
    "!pip install bitsandbytes \n",
    "!pip install flash-attn --no-build-isolation "
   ]
  },
  {
   "cell_type": "code",
   "execution_count": 2,
   "id": "ad1a595a",
   "metadata": {},
   "outputs": [],
   "source": [
    "import fitz\n",
    "from tqdm.auto import tqdm \n",
    "\n",
    "\n",
    "def text_formatter(text:str)->str:\n",
    "    clean_text = text.replace(\"\\n\" , \" \").strip()\n",
    "    return clean_text\n",
    "def open_read_pdf(pdf_path:str) -> str : \n",
    "    doc = fitz.open(pdf_path)\n",
    "    pages_and_texts = []\n",
    "    for page_num , page in tqdm(enumerate(doc)) : \n",
    "        text = page.get_text()\n",
    "        text = text_formatter(text)\n",
    "        pages_and_texts.append({\"page_number\":page_num-20,\n",
    "                                \"page_char_count\":len(text),\n",
    "                                \"page_word_count\":len(text.split(\" \")),\n",
    "                                \"page_sentence_count_raw\":len(text.split('. ')),\n",
    "                                \"page_token_count\":len(text)/4 ,# 1 token ~ 4 chars\n",
    "                                \"text\":text})\n",
    "        \n",
    "    return pages_and_texts    "
   ]
  },
  {
   "cell_type": "code",
   "execution_count": 3,
   "id": "17f8c5be",
   "metadata": {},
   "outputs": [
    {
     "data": {
      "application/vnd.jupyter.widget-view+json": {
       "model_id": "a3da60c5c0684d65873eecf0a260907f",
       "version_major": 2,
       "version_minor": 0
      },
      "text/plain": [
       "0it [00:00, ?it/s]"
      ]
     },
     "metadata": {},
     "output_type": "display_data"
    },
    {
     "data": {
      "text/plain": [
       "{'page_number': 1,\n",
       " 'page_char_count': 277,\n",
       " 'page_word_count': 50,\n",
       " 'page_sentence_count_raw': 1,\n",
       " 'page_token_count': 69.25,\n",
       " 'text': 'U n i t I Introduction to Physiology: The Cell  and General Physiology \\t 1.\\t Functional Organization of the Human  Body and Control of the “Internal  Environment” \\t 2.\\t The Cell and Its Functions \\t 3.\\t Genetic Control of Protein Synthesis, Cell  Function, and Cell Reproduction'}"
      ]
     },
     "execution_count": 3,
     "metadata": {},
     "output_type": "execute_result"
    }
   ],
   "source": [
    "pdf_path=\"Guyton and Hall Textbook of Medical Physiology ( PDFDrive ).pdf\"\n",
    "\n",
    "pages_and_texts = open_read_pdf(pdf_path=pdf_path)\n",
    "pages_and_texts[21]"
   ]
  },
  {
   "cell_type": "code",
   "execution_count": 4,
   "id": "c8cecc58",
   "metadata": {},
   "outputs": [
    {
     "data": {
      "text/plain": [
       "{'page_number': 3,\n",
       " 'page_char_count': 4131,\n",
       " 'page_word_count': 716,\n",
       " 'page_sentence_count_raw': 29,\n",
       " 'page_token_count': 1032.75,\n",
       " 'text': 'U n i t  I 3 Functional Organization of the Human Body  and\\xa0Control of the “Internal Environment” chapter 1 The goal of physiology is  to explain the physical and  chemical factors that are  responsible for the origin,  development, and progres- sion of life. Each type of life,  from the simple virus to  the largest tree or the complicated human being, has its  own functional characteristics. Therefore, the vast field of  physiology can be divided into viral physiology, bacterial  physiology, cellular physiology, plant physiology, human  physiology, and many more subdivisions. Human Physiology.\\u2002 In human physiology, we  attempt to explain the specific characteristics and mech- anisms of the human body that make it a living being.  The very fact that we remain alive is the result of com- plex control systems, for hunger makes us seek food and  fear makes us seek refuge. Sensations of cold make us look  for warmth. Other forces cause us to seek fellowship and  to reproduce. Thus, the human being is, in many ways,  like an automaton, and the fact that we are sensing, feel- ing, and knowledgeable beings is part of this automatic  sequence of life; these special attributes allow us to exist  under widely varying conditions. Cells as the Living Units of the Body The basic living unit of the body is the cell. Each organ is  an aggregate of many different cells held together by inter- cellular supporting structures. Each type of cell is specially adapted to perform one  or a few particular functions. For instance, the red blood  cells, numbering 25 trillion in each human being, transport  oxygen from the lungs to the tissues. Although the red cells  are the most abundant of any single type of cell in the body,  there are about 75 trillion additional cells of other types  that perform functions different from those of the red cell.  The entire body, then, contains about 100 trillion cells. Although the many cells of the body often differ mark- edly from one another, all of them have certain basic char- acteristics that are alike. For instance, in all cells, oxygen  reacts with carbohydrate, fat, and protein to release the  energy required for cell function. Further, the general  chemical mechanisms for changing nutrients into energy  are basically the same in all cells, and all cells deliver end  products of their chemical reactions into the surround- ing fluids. Almost all cells also have the ability to reproduce addi- tional cells of their own kind. Fortunately, when cells of  a particular type are destroyed, the remaining cells of  this type usually generate new cells until the supply is  replenished. Extracellular Fluid—The “Internal  Environment” About 60 percent of the adult human body is fluid, mainly  a water solution of ions and other substances. Although  most of this fluid is inside the cells and is called intracellu- lar fluid, about one third is in the spaces outside the cells  and is called extracellular fluid. This extracellular fluid is  in constant motion throughout the body. It is transported  rapidly in the circulating blood and then mixed between  the blood and the tissue fluids by diffusion through the  capillary walls. In the extracellular fluid are the ions and nutrients  needed by the cells to maintain cell life. Thus, all cells live  in essentially the same environment—the extracellular  fluid. For this reason, the extracellular fluid is also called  the internal environment of the body, or the milieu inté- rieur, a term introduced more than 100 years ago by the  great 19th-century French physiologist Claude Bernard. Cells are capable of living, growing, and performing  their special functions as long as the proper concentra- tions of oxygen, glucose, different ions, amino acids, fatty  substances, and other constituents are available in this  internal environment. Differences Between Extracellular and Intra\\xad cellular Fluids.\\u2002 The extracellular fluid contains large  amounts of sodium, chloride, and bicarbonate ions plus  nutrients for the cells, such as oxygen, glucose, fatty acids,  and amino acids. It also contains carbon dioxide that is'}"
      ]
     },
     "execution_count": 4,
     "metadata": {},
     "output_type": "execute_result"
    }
   ],
   "source": [
    "pages_and_texts[23]"
   ]
  },
  {
   "cell_type": "code",
   "execution_count": 5,
   "id": "c03f9acf",
   "metadata": {},
   "outputs": [
    {
     "data": {
      "text/html": [
       "<div>\n",
       "<style scoped>\n",
       "    .dataframe tbody tr th:only-of-type {\n",
       "        vertical-align: middle;\n",
       "    }\n",
       "\n",
       "    .dataframe tbody tr th {\n",
       "        vertical-align: top;\n",
       "    }\n",
       "\n",
       "    .dataframe thead th {\n",
       "        text-align: right;\n",
       "    }\n",
       "</style>\n",
       "<table border=\"1\" class=\"dataframe\">\n",
       "  <thead>\n",
       "    <tr style=\"text-align: right;\">\n",
       "      <th></th>\n",
       "      <th>page_number</th>\n",
       "      <th>page_char_count</th>\n",
       "      <th>page_word_count</th>\n",
       "      <th>page_sentence_count_raw</th>\n",
       "      <th>page_token_count</th>\n",
       "      <th>text</th>\n",
       "    </tr>\n",
       "  </thead>\n",
       "  <tbody>\n",
       "    <tr>\n",
       "      <th>0</th>\n",
       "      <td>-20</td>\n",
       "      <td>0</td>\n",
       "      <td>1</td>\n",
       "      <td>1</td>\n",
       "      <td>0.00</td>\n",
       "      <td></td>\n",
       "    </tr>\n",
       "    <tr>\n",
       "      <th>1</th>\n",
       "      <td>-19</td>\n",
       "      <td>84</td>\n",
       "      <td>9</td>\n",
       "      <td>1</td>\n",
       "      <td>21.00</td>\n",
       "      <td>Guyton and Hall  Textbook of Medical Physiolog...</td>\n",
       "    </tr>\n",
       "    <tr>\n",
       "      <th>2</th>\n",
       "      <td>-18</td>\n",
       "      <td>34</td>\n",
       "      <td>5</td>\n",
       "      <td>1</td>\n",
       "      <td>8.50</td>\n",
       "      <td>This page intentionally left blank</td>\n",
       "    </tr>\n",
       "    <tr>\n",
       "      <th>3</th>\n",
       "      <td>-17</td>\n",
       "      <td>275</td>\n",
       "      <td>51</td>\n",
       "      <td>4</td>\n",
       "      <td>68.75</td>\n",
       "      <td>Guyton and Hall  Textbook of Medical Physiolog...</td>\n",
       "    </tr>\n",
       "    <tr>\n",
       "      <th>4</th>\n",
       "      <td>-16</td>\n",
       "      <td>2803</td>\n",
       "      <td>445</td>\n",
       "      <td>39</td>\n",
       "      <td>700.75</td>\n",
       "      <td>1600 John F. Kennedy Blvd. Ste 1800 Philadelph...</td>\n",
       "    </tr>\n",
       "  </tbody>\n",
       "</table>\n",
       "</div>"
      ],
      "text/plain": [
       "   page_number  page_char_count  page_word_count  page_sentence_count_raw  \\\n",
       "0          -20                0                1                        1   \n",
       "1          -19               84                9                        1   \n",
       "2          -18               34                5                        1   \n",
       "3          -17              275               51                        4   \n",
       "4          -16             2803              445                       39   \n",
       "\n",
       "   page_token_count                                               text  \n",
       "0              0.00                                                     \n",
       "1             21.00  Guyton and Hall  Textbook of Medical Physiolog...  \n",
       "2              8.50                 This page intentionally left blank  \n",
       "3             68.75  Guyton and Hall  Textbook of Medical Physiolog...  \n",
       "4            700.75  1600 John F. Kennedy Blvd. Ste 1800 Philadelph...  "
      ]
     },
     "execution_count": 5,
     "metadata": {},
     "output_type": "execute_result"
    }
   ],
   "source": [
    "import pandas as pd \n",
    "df  = pd.DataFrame(pages_and_texts)\n",
    "df.head()"
   ]
  },
  {
   "cell_type": "code",
   "execution_count": 6,
   "id": "e2e81a86",
   "metadata": {},
   "outputs": [
    {
     "data": {
      "text/html": [
       "<div>\n",
       "<style scoped>\n",
       "    .dataframe tbody tr th:only-of-type {\n",
       "        vertical-align: middle;\n",
       "    }\n",
       "\n",
       "    .dataframe tbody tr th {\n",
       "        vertical-align: top;\n",
       "    }\n",
       "\n",
       "    .dataframe thead th {\n",
       "        text-align: right;\n",
       "    }\n",
       "</style>\n",
       "<table border=\"1\" class=\"dataframe\">\n",
       "  <thead>\n",
       "    <tr style=\"text-align: right;\">\n",
       "      <th></th>\n",
       "      <th>page_number</th>\n",
       "      <th>page_char_count</th>\n",
       "      <th>page_word_count</th>\n",
       "      <th>page_sentence_count_raw</th>\n",
       "      <th>page_token_count</th>\n",
       "    </tr>\n",
       "  </thead>\n",
       "  <tbody>\n",
       "    <tr>\n",
       "      <th>count</th>\n",
       "      <td>1112.000000</td>\n",
       "      <td>1112.000000</td>\n",
       "      <td>1112.000000</td>\n",
       "      <td>1112.000000</td>\n",
       "      <td>1112.000000</td>\n",
       "    </tr>\n",
       "    <tr>\n",
       "      <th>mean</th>\n",
       "      <td>535.500000</td>\n",
       "      <td>4623.241906</td>\n",
       "      <td>777.054856</td>\n",
       "      <td>26.403777</td>\n",
       "      <td>1155.810477</td>\n",
       "    </tr>\n",
       "    <tr>\n",
       "      <th>std</th>\n",
       "      <td>321.151055</td>\n",
       "      <td>1650.426619</td>\n",
       "      <td>276.955539</td>\n",
       "      <td>10.270058</td>\n",
       "      <td>412.606655</td>\n",
       "    </tr>\n",
       "    <tr>\n",
       "      <th>min</th>\n",
       "      <td>-20.000000</td>\n",
       "      <td>0.000000</td>\n",
       "      <td>1.000000</td>\n",
       "      <td>1.000000</td>\n",
       "      <td>0.000000</td>\n",
       "    </tr>\n",
       "    <tr>\n",
       "      <th>25%</th>\n",
       "      <td>257.750000</td>\n",
       "      <td>4069.000000</td>\n",
       "      <td>684.000000</td>\n",
       "      <td>22.000000</td>\n",
       "      <td>1017.250000</td>\n",
       "    </tr>\n",
       "    <tr>\n",
       "      <th>50%</th>\n",
       "      <td>535.500000</td>\n",
       "      <td>4935.500000</td>\n",
       "      <td>841.500000</td>\n",
       "      <td>28.000000</td>\n",
       "      <td>1233.875000</td>\n",
       "    </tr>\n",
       "    <tr>\n",
       "      <th>75%</th>\n",
       "      <td>813.250000</td>\n",
       "      <td>5760.000000</td>\n",
       "      <td>960.250000</td>\n",
       "      <td>33.000000</td>\n",
       "      <td>1440.000000</td>\n",
       "    </tr>\n",
       "    <tr>\n",
       "      <th>max</th>\n",
       "      <td>1091.000000</td>\n",
       "      <td>7300.000000</td>\n",
       "      <td>1248.000000</td>\n",
       "      <td>59.000000</td>\n",
       "      <td>1825.000000</td>\n",
       "    </tr>\n",
       "  </tbody>\n",
       "</table>\n",
       "</div>"
      ],
      "text/plain": [
       "       page_number  page_char_count  page_word_count  page_sentence_count_raw  \\\n",
       "count  1112.000000      1112.000000      1112.000000              1112.000000   \n",
       "mean    535.500000      4623.241906       777.054856                26.403777   \n",
       "std     321.151055      1650.426619       276.955539                10.270058   \n",
       "min     -20.000000         0.000000         1.000000                 1.000000   \n",
       "25%     257.750000      4069.000000       684.000000                22.000000   \n",
       "50%     535.500000      4935.500000       841.500000                28.000000   \n",
       "75%     813.250000      5760.000000       960.250000                33.000000   \n",
       "max    1091.000000      7300.000000      1248.000000                59.000000   \n",
       "\n",
       "       page_token_count  \n",
       "count       1112.000000  \n",
       "mean        1155.810477  \n",
       "std          412.606655  \n",
       "min            0.000000  \n",
       "25%         1017.250000  \n",
       "50%         1233.875000  \n",
       "75%         1440.000000  \n",
       "max         1825.000000  "
      ]
     },
     "execution_count": 6,
     "metadata": {},
     "output_type": "execute_result"
    }
   ],
   "source": [
    "df.describe()"
   ]
  },
  {
   "cell_type": "markdown",
   "id": "5a825e93",
   "metadata": {},
   "source": [
    "##  Chunking Strategies"
   ]
  },
  {
   "cell_type": "markdown",
   "id": "08ab65f7",
   "metadata": {},
   "source": [
    "### 1. Fixed size Chunking"
   ]
  },
  {
   "cell_type": "code",
   "execution_count": 7,
   "id": "b75dff78",
   "metadata": {},
   "outputs": [],
   "source": [
    "def chunk_text(text:str,chunk_size:int=500) -> list:\n",
    "    chunks = []\n",
    "    current_chunk = ''\n",
    "    words = text.split()\n",
    "    for word in words : \n",
    "        if len(current_chunk) + len(word) + 1 <= chunk_size : \n",
    "            current_chunk += (word + \" \")\n",
    "        else : \n",
    "            chunks.append(current_chunk)\n",
    "            current_chunk = word + \" \"\n",
    "    ## adding the last chunk if it is not empty    \n",
    "    if current_chunk : \n",
    "        chunks.append(current_chunk.strip())\n",
    "    return chunks     \n",
    "\n",
    "\n",
    "def chunks_pdf_pages(pages_and_texts:list,chunk_size:int=500)->list[dict]:\n",
    "    all_chunks = []\n",
    "    for page in pages_and_texts : \n",
    "        page_number = page[\"page_number\"]\n",
    "        page_text = page[\"text\"]\n",
    "        \n",
    "        chunks = chunk_text(page_text,chunk_size=chunk_size)\n",
    "        for i,chunk in enumerate(chunks) : \n",
    "            all_chunks.append({\n",
    "                \"page_number\":page_number,\n",
    "                \"chunk_index\" : i,\n",
    "                \"chunk_char_count\":  len(chunk),\n",
    "                \"chunk_word_count\" : len(chunk.split()),\n",
    "                \"chunk_token_count\": len(chunk)/4,\n",
    "                \"chunk_text\":chunk\n",
    "            })\n",
    "    return all_chunks"
   ]
  },
  {
   "cell_type": "code",
   "execution_count": 8,
   "id": "bd7710e9",
   "metadata": {},
   "outputs": [
    {
     "name": "stdout",
     "output_type": "stream",
     "text": [
      "Total chunks: 10786\n",
      "Chunk sample (page 14) : 2-4. The space inside the tubules and vesicles is filled with endoplasmic matrix, a watery medium that is different from the fluid in the cytosol outside the endoplasmic reticulum. Electron micrograph\n"
     ]
    }
   ],
   "source": [
    "chunked_pages = chunks_pdf_pages(pages_and_texts,chunk_size=500)\n",
    "print(f\"Total chunks: {len(chunked_pages)}\")\n",
    "print(f\"Chunk sample (page {chunked_pages[200][\"page_number\"]}) : {chunked_pages[200][\"chunk_text\"][:200]}\")"
   ]
  },
  {
   "cell_type": "code",
   "execution_count": 9,
   "id": "a56be594",
   "metadata": {},
   "outputs": [],
   "source": [
    "import random,textwrap \n",
    "# -------------------------Sampling & Pretty Printing--------------------------\n",
    "def _scattered_indices(n:int,k:int,jitter_frac:float=0.08) -> list[int] : \n",
    "    if k<=0 :\n",
    "        return []\n",
    "    if k==1 : \n",
    "        return [random.randrange(n)]\n",
    "    anchors = [int(round(i*(n-1)/(k-1))) for i in range(k)]\n",
    "    out,seen = [],set()\n",
    "    radius = max(1,int(n*jitter_frac))\n",
    "    for a in anchors : \n",
    "        lo,hi = max(0,a-radius) , min(n-1,a+radius)\n",
    "        j = random.randint(lo,hi)\n",
    "        if j not in seen : \n",
    "            out.append(j);seen.add(j)\n",
    "    while len(out)<k : \n",
    "        r = random.randrange(n)\n",
    "        if r not in seen :\n",
    "            out.append(r),seen.add(r)\n",
    "    return out\n",
    "\n",
    "def _draw_boxed_chunk(c:dict,wrap_at:int=96) -> str : \n",
    "    header = (\n",
    "        f\"Chunk p{c['page_number']} -- idx {c['chunk_index']}  |  \"\n",
    "        f\"Chars {c['chunk_char_count']} -- words {c['chunk_word_count']} -- ~tokens {c['chunk_token_count']} \"\n",
    "    )\n",
    "    \n",
    "    wrapped_lines = textwrap.wrap(\n",
    "        c['chunk_text'],width=wrap_at,break_long_words=False,replace_whitespace=False\n",
    "    )\n",
    "    context_width = max([0,*map(len,wrapped_lines)])\n",
    "    box_width = max(len(header),context_width+2)\n",
    "    \n",
    "    top    = \"=\" + (box_width+4)*\"=\" + \"=\"\n",
    "    hline  = \"||\" + header.ljust(box_width) + \"  ||\"\n",
    "    sep    = \"||-\" + \"-\"*box_width + \"-||\"\n",
    "    body   = \"\\n\".join(\"||\" + line.ljust(box_width--2)+'||' for line in wrapped_lines) or \\\n",
    "        (\"||\"+\"\".ljust(box_width-2) + \"||\")\n",
    "    bottom = \"=\" + (box_width+4)*\"=\" + \"=\"\n",
    "    \n",
    "    return \"\\n\".join([top,hline,sep,body,bottom])\n",
    "\n",
    "def show_random_chunks(pages_and_texts,chunk_size:int=500,k:int=5,seed:int | None = 42) : \n",
    "    if seed is not None : \n",
    "        random.seed(seed)\n",
    "    all_chunks = chunks_pdf_pages(pages_and_texts,chunk_size)\n",
    "    if not all_chunks : \n",
    "        print(f\"No chunks are available.\")\n",
    "        return\n",
    "    idxs = _scattered_indices(len(all_chunks),k)\n",
    "    print(f\"Showing {len(idxs)} scattered random chunks ou of {len(all_chunks)} in total:\\n \")\n",
    "    for i ,idx in enumerate(idxs,1):\n",
    "        print(f\"#{i}\")\n",
    "        print(_draw_boxed_chunk(all_chunks[idx]))\n",
    "        print()"
   ]
  },
  {
   "cell_type": "code",
   "execution_count": 10,
   "id": "e758f916",
   "metadata": {},
   "outputs": [
    {
     "name": "stdout",
     "output_type": "stream",
     "text": [
      "Showing 2 scattered random chunks ou of 10786 in total:\n",
      " \n",
      "#1\n",
      "========================================================================================================\n",
      "||Chunk p64 -- idx 2  |  Chars 498 -- words 84 -- ~tokens 124.5                                       ||\n",
      "||----------------------------------------------------------------------------------------------------||\n",
      "||have a calcium pump similar to the sodium pump, and calcium serves along with (or instead of)       ||\n",
      "||sodium in some cells to cause most of the action potential. Like the sodium pump, the calcium       ||\n",
      "||pump transports calcium ions from the interior to the exterior of the cell membrane (or into the    ||\n",
      "||endoplas- mic reticulum of the cell), creating a calcium ion gradient of about 10,000-fold. This    ||\n",
      "||leaves an internal cell concentration of calcium ions of about 10−7 molar, in contrast to an        ||\n",
      "||external concentration                                                                              ||\n",
      "========================================================================================================\n",
      "\n",
      "#2\n",
      "========================================================================================================\n",
      "||Chunk p1032 -- idx 10  |  Chars 500 -- words 86 -- ~tokens 125.0                                    ||\n",
      "||----------------------------------------------------------------------------------------------------||\n",
      "||monophosphate (AMP). The amount of ATP present in the muscles, even in a well- trained athlete,     ||\n",
      "||is sufficient to sustain maximal muscle power for only about 3 seconds, maybe enough for one        ||\n",
      "||half of a 50-meter dash. Therefore, except for a few seconds at a time, it is essential that new    ||\n",
      "||ATP be formed continuously, even during the performance of short athletic events. Figure 84-1       ||\n",
      "||shows the overall metabolic system, demonstrating the break- down of ATP first to ADP and then      ||\n",
      "||to AMP, with the release                                                                            ||\n",
      "========================================================================================================\n",
      "\n"
     ]
    }
   ],
   "source": [
    "assert 'pages_and_texts' in globals() , \"Run : pages_and_texts = open_and_read_pdf(odf_path) first.\"\n",
    "show_random_chunks(pages_and_texts,chunk_size=500,k=2,seed=42)"
   ]
  },
  {
   "cell_type": "markdown",
   "id": "2ebd5beb",
   "metadata": {},
   "source": [
    "### 2. Semantic Chunking "
   ]
  },
  {
   "cell_type": "code",
   "execution_count": 11,
   "id": "169cfe36",
   "metadata": {},
   "outputs": [
    {
     "name": "stdout",
     "output_type": "stream",
     "text": [
      "WARNING:tensorflow:From C:\\Users\\DHIA\\AppData\\Local\\Packages\\PythonSoftwareFoundation.Python.3.12_qbz5n2kfra8p0\\LocalCache\\local-packages\\Python312\\site-packages\\tf_keras\\src\\losses.py:2976: The name tf.losses.sparse_softmax_cross_entropy is deprecated. Please use tf.compat.v1.losses.sparse_softmax_cross_entropy instead.\n",
      "\n"
     ]
    },
    {
     "name": "stderr",
     "output_type": "stream",
     "text": [
      "[nltk_data] Downloading package punkt_tab to\n",
      "[nltk_data]     C:\\Users\\DHIA\\AppData\\Roaming\\nltk_data...\n",
      "[nltk_data]   Package punkt_tab is already up-to-date!\n"
     ]
    },
    {
     "data": {
      "text/plain": [
       "True"
      ]
     },
     "execution_count": 11,
     "metadata": {},
     "output_type": "execute_result"
    }
   ],
   "source": [
    "from sentence_transformers import SentenceTransformer \n",
    "from sklearn.metrics.pairwise import cosine_similarity\n",
    "import numpy as np\n",
    "import nltk\n",
    "nltk.download('punkt',quiet=True) \n",
    "nltk.download('punkt_tab')"
   ]
  },
  {
   "cell_type": "code",
   "execution_count": 12,
   "id": "3ba47653",
   "metadata": {},
   "outputs": [],
   "source": [
    "semantic_model = SentenceTransformer(\"all-MiniLM-L6-V2\")"
   ]
  },
  {
   "cell_type": "code",
   "execution_count": 13,
   "id": "17d3c1cf",
   "metadata": {},
   "outputs": [],
   "source": [
    "def semantic_chunk_text(text:str,similarity_threshold:float=0.8,max_tokens:int=500)->list:\n",
    "    sentences = nltk.sent_tokenize(text)\n",
    "    if not sentences : \n",
    "        return []\n",
    "    embeddings = semantic_model.encode(sentences) ## break the page into sentences\n",
    "    chunks = []\n",
    "    current_chunk = [sentences[0]]\n",
    "    current_embedding = embeddings[0]\n",
    "    for i in range(1,len(sentences)) : \n",
    "        sim = cosine_similarity([current_embedding],[embeddings[i]])[0][0]\n",
    "        chunk_token_count = len(\" \".join(current_chunk)) // 4 \n",
    "        if sim >= similarity_threshold and chunk_token_count <max_tokens : \n",
    "            current_chunk.append(sentences[i])\n",
    "            current_embedding = np.mean([current_embedding,embeddings[i]],axis=0)\n",
    "        else : \n",
    "            chunks.append(\" \".join(current_chunk))\n",
    "            current_chunk = [sentences[i]]\n",
    "            current_embedding = embeddings[i]\n",
    "    if current_chunk : \n",
    "        chunks.append(\" \".join(current_chunk))\n",
    "    return chunks\n",
    "\n",
    "from tqdm.auto import tqdm \n",
    "def semantic_chunk_pdf_pages(pages_and_texts:list,\n",
    "                             similarity_threshold:float=0.8,\n",
    "                             max_tokens:int=500\n",
    "                             )->list[dict] : \n",
    "    all_chunks = []\n",
    "    for page in tqdm(pages_and_texts,desc=\"Semantic chunking pages\") : \n",
    "        page_number = page[\"page_number\"]\n",
    "        page_text = page[\"text\"]\n",
    "        \n",
    "        chunks = semantic_chunk_text(page_text,similarity_threshold,max_tokens)\n",
    "        for i,chunk in enumerate(chunks) : \n",
    "            all_chunks.append({\n",
    "                \"page_number\":page_number,\n",
    "                \"chunk_index\" : i,\n",
    "                \"chunk_char_count\":  len(chunk),\n",
    "                \"chunk_word_count\" : len(chunk.split()),\n",
    "                \"chunk_token_count\": len(chunk)/4,\n",
    "                \"chunk_text\":chunk\n",
    "            })\n",
    "    return all_chunks"
   ]
  },
  {
   "cell_type": "code",
   "execution_count": 14,
   "id": "f4038f4d",
   "metadata": {},
   "outputs": [
    {
     "data": {
      "application/vnd.jupyter.widget-view+json": {
       "model_id": "932435890a1943669156eae727808822",
       "version_major": 2,
       "version_minor": 0
      },
      "text/plain": [
       "Semantic chunking pages:   0%|          | 0/1112 [00:00<?, ?it/s]"
      ]
     },
     "metadata": {},
     "output_type": "display_data"
    },
    {
     "name": "stdout",
     "output_type": "stream",
     "text": [
      "Total chunks: 31525\n",
      "Chunk sample (page 5) : An important segment of the nervous system is called  the autonomic system.\n"
     ]
    }
   ],
   "source": [
    "chunked_pages = semantic_chunk_pdf_pages(pages_and_texts,similarity_threshold=0.8,max_tokens=500)\n",
    "print(f\"Total chunks: {len(chunked_pages)}\")\n",
    "print(f\"Chunk sample (page {chunked_pages[200][\"page_number\"]}) : {chunked_pages[200][\"chunk_text\"][:200]}\")"
   ]
  },
  {
   "cell_type": "code",
   "execution_count": 15,
   "id": "3d2cb83e",
   "metadata": {},
   "outputs": [],
   "source": [
    "import random,textwrap \n",
    "# -------------------------Sampling & Pretty Printing--------------------------\n",
    "def _scattered_indices(n:int,k:int,jitter_frac:float=0.08) -> list[int] : \n",
    "    if k<=0 :\n",
    "        return []\n",
    "    if k==1 : \n",
    "        return [random.randrange(n)]\n",
    "    anchors = [int(round(i*(n-1)/(k-1))) for i in range(k)]\n",
    "    out,seen = [],set()\n",
    "    radius = max(1,int(n*jitter_frac))\n",
    "    for a in anchors : \n",
    "        lo,hi = max(0,a-radius) , min(n-1,a+radius)\n",
    "        j = random.randint(lo,hi)\n",
    "        if j not in seen : \n",
    "            out.append(j);seen.add(j)\n",
    "    while len(out)<k : \n",
    "        r = random.randrange(n)\n",
    "        if r not in seen :\n",
    "            out.append(r),seen.add(r)\n",
    "    return out\n",
    "\n",
    "def _draw_boxed_chunk(c:dict,wrap_at:int=96) -> str : \n",
    "    header = (\n",
    "        f\"Chunk p{c['page_number']} -- idx {c['chunk_index']}  |  \"\n",
    "        f\"Chars {c['chunk_char_count']} -- words {c['chunk_word_count']} -- ~tokens {c['chunk_token_count']} \"\n",
    "    )\n",
    "    \n",
    "    wrapped_lines = textwrap.wrap(\n",
    "        c['chunk_text'],width=wrap_at,break_long_words=False,replace_whitespace=False\n",
    "    )\n",
    "    context_width = max([0,*map(len,wrapped_lines)])\n",
    "    box_width = max(len(header),context_width+2)\n",
    "    \n",
    "    top    = \"=\" + (box_width+4)*\"=\" + \"=\"\n",
    "    hline  = \"||\" + header.ljust(box_width) + \"  ||\"\n",
    "    sep    = \"||-\" + \"-\"*box_width + \"-||\"\n",
    "    body   = \"\\n\".join(\"||\" + line.ljust(box_width--2)+'||' for line in wrapped_lines) or \\\n",
    "        (\"||\"+\"\".ljust(box_width-2) + \"||\")\n",
    "    bottom = \"=\" + (box_width+4)*\"=\" + \"=\"\n",
    "    \n",
    "    return \"\\n\".join([top,hline,sep,body,bottom])\n",
    "\n",
    "def show_random_Semantic_chunks(pages_and_texts,similarity_threshold:float,max_tokens:int,k:int,seed:int | None = 42) : \n",
    "    if seed is not None : \n",
    "        random.seed(seed)\n",
    "    all_chunks = semantic_chunk_pdf_pages(pages_and_texts,similarity_threshold,max_tokens)\n",
    "    if not all_chunks : \n",
    "        print(f\"No chunks are available.\")\n",
    "        return\n",
    "    idxs = _scattered_indices(len(all_chunks),k)\n",
    "    print(f\"Showing {len(idxs)} scattered random chunks ou of {len(all_chunks)} in total:\\n \")\n",
    "    for i ,idx in enumerate(idxs,1):\n",
    "        print(f\"#{i}\")\n",
    "        print(_draw_boxed_chunk(all_chunks[idx]))\n",
    "        print()"
   ]
  },
  {
   "cell_type": "code",
   "execution_count": 16,
   "id": "ea7ab84a",
   "metadata": {},
   "outputs": [
    {
     "data": {
      "application/vnd.jupyter.widget-view+json": {
       "model_id": "24573b31bd2146d7bbbe4e018d8c72b1",
       "version_major": 2,
       "version_minor": 0
      },
      "text/plain": [
       "Semantic chunking pages:   0%|          | 0/1112 [00:00<?, ?it/s]"
      ]
     },
     "metadata": {},
     "output_type": "display_data"
    },
    {
     "name": "stdout",
     "output_type": "stream",
     "text": [
      "Showing 3 scattered random chunks ou of 31525 in total:\n",
      " \n",
      "#1\n",
      "========================================================================================================\n",
      "||Chunk p14 -- idx 24  |  Chars 227 -- words 34 -- ~tokens 56.75                                      ||\n",
      "||----------------------------------------------------------------------------------------------------||\n",
      "||(3) Many of the carbohydrates act as  receptor substances for binding hormones, such as insulin;    ||\n",
      "||when bound, this combination activates attached inter- nal proteins that, in turn, activate a       ||\n",
      "||cascade of intracel- lular enzymes.                                                                 ||\n",
      "========================================================================================================\n",
      "\n",
      "#2\n",
      "================================================================================================\n",
      "||Chunk p473 -- idx 21  |  Chars 135 -- words 23 -- ~tokens 33.75                             ||\n",
      "||--------------------------------------------------------------------------------------------||\n",
      "||Both of these are released in the  lung tissues by mast cells during allergic reactions,    ||\n",
      "||especially  those caused by pollen in the air.                                              ||\n",
      "================================================================================================\n",
      "\n",
      "#3\n",
      "=======================================================================================================\n",
      "||Chunk p1038 -- idx 2  |  Chars 106 -- words 17 -- ~tokens 26.5                                     ||\n",
      "||---------------------------------------------------------------------------------------------------||\n",
      "||As a result,  much debris accumulates in the passageways and adds further  to the difficulty of    ||\n",
      "||breathing.                                                                                         ||\n",
      "=======================================================================================================\n",
      "\n"
     ]
    }
   ],
   "source": [
    "show_random_Semantic_chunks(pages_and_texts,similarity_threshold=0.8,max_tokens=500,k=3,seed=42)"
   ]
  },
  {
   "cell_type": "markdown",
   "id": "90c3d2f1",
   "metadata": {},
   "source": [
    "### 3.Recursive Chunking"
   ]
  },
  {
   "cell_type": "code",
   "execution_count": 17,
   "id": "73dc1f5d",
   "metadata": {},
   "outputs": [],
   "source": [
    "def recursive_chunk_pages(text:str, max_chunk_size:int=1000,min_chunk_size:int=100) -> list : \n",
    "    def split_chunk(chunk:str)->list : \n",
    "        if len(chunk)<=max_chunk_size : \n",
    "            return [chunk]\n",
    "        sections = chunk.split(\"\\n\\n\") ## splitting by double new lines\n",
    "        if len(sections)>1 : \n",
    "            result = []\n",
    "            for section in sections : \n",
    "                if section.strip() : \n",
    "                    result.extend(split_chunk(section.strip()))\n",
    "            return result\n",
    "        \n",
    "        sections = chunk.split(\"\\n\") ## splitting by single new line\n",
    "        if len(sections)>1 : \n",
    "            result = []\n",
    "            for section in sections : \n",
    "                if section.strip() : \n",
    "                    result.extend(split_chunk(section.strip()))\n",
    "            return result\n",
    "        \n",
    "        ## split to sentences \n",
    "        sentences = nltk.sent_tokenize(chunk)\n",
    "        chunks,current_chunk,current_size = [],[],0\n",
    "        for sentence in sentences :\n",
    "            if current_size + len(sentence) > max_chunk_size : \n",
    "                if current_chunk : \n",
    "                    chunks.append(\" \".join(current_chunk))\n",
    "                current_chunk = [sentence]\n",
    "                current_size = len(sentence)\n",
    "            else : \n",
    "                current_chunk.append(sentence)\n",
    "                current_size += len(sentence)\n",
    "        if current_chunk : \n",
    "            chunks.append(\" \".join(current_chunk))\n",
    "        return chunks\n",
    "    return split_chunk(text)\n",
    "\n",
    "def Recursive_chunk_pdf_pages(pages_and_texts:list,max_chunk_size:int,min_chunk_size:int)->list[dict] : \n",
    "    all_chunks = []\n",
    "    for page in tqdm(pages_and_texts,desc=\"Recursive chunking pages\") : \n",
    "        page_number = page[\"page_number\"]\n",
    "        page_text = page[\"text\"]\n",
    "        \n",
    "        chunks = recursive_chunk_pages(page_text,max_chunk_size,min_chunk_size)\n",
    "        for i,chunk in enumerate(chunks) : \n",
    "            all_chunks.append({\n",
    "                \"page_number\":page_number,\n",
    "                \"chunk_index\" : i,\n",
    "                \"chunk_char_count\":  len(chunk),\n",
    "                \"chunk_word_count\" : len(chunk.split()),\n",
    "                \"chunk_token_count\": len(chunk)/4,\n",
    "                \"chunk_text\":chunk\n",
    "            })\n",
    "    return all_chunks"
   ]
  },
  {
   "cell_type": "code",
   "execution_count": 18,
   "id": "8606eb30",
   "metadata": {},
   "outputs": [
    {
     "data": {
      "application/vnd.jupyter.widget-view+json": {
       "model_id": "326552231d5040a3ac51e2e074801f13",
       "version_major": 2,
       "version_minor": 0
      },
      "text/plain": [
       "Recursive chunking pages:   0%|          | 0/1112 [00:00<?, ?it/s]"
      ]
     },
     "metadata": {},
     "output_type": "display_data"
    },
    {
     "name": "stdout",
     "output_type": "stream",
     "text": [
      "Total chunks: 6117\n",
      "Chunk sample (page 36) : Because there are more than 30,000 different genes  in each human cell, the large number of ways in which  genetic activity can be controlled is not surprising. The  gene control systems are especially important for control- ling intracellular concentrations of amino acids, amino  acid derivatives, and intermediate substrates and ­products  of carbohydrate, lipid, and protein metabolism. Control of Intracellular Function   by Enzyme Regulation In addition to control of cell function by genetic regula- tion, some cell activities are controlled by intracellular  inhibitors or activators that act directly on specific intra- cellular enzymes. Thus, enzyme regulation represents a  second category of mechanisms by which cellular bio- chemical functions can be controlled. Enzyme Inhibition. Some chemical substances formed  in the cell have direct feedback effects in inhibiting the spe- cific enzyme systems that synthesize them.\n"
     ]
    }
   ],
   "source": [
    "recursive_chunks = Recursive_chunk_pdf_pages(pages_and_texts,max_chunk_size=1000,min_chunk_size=100) \n",
    "print(f\"Total chunks: {len(recursive_chunks)}\")\n",
    "print(f\"Chunk sample (page {recursive_chunks[200][\"page_number\"]}) : {recursive_chunks[200][\"chunk_text\"]}\")"
   ]
  },
  {
   "cell_type": "code",
   "execution_count": 19,
   "id": "20439d24",
   "metadata": {},
   "outputs": [],
   "source": [
    "import random,textwrap \n",
    "# -------------------------Sampling & Pretty Printing--------------------------\n",
    "def _scattered_indices(n:int,k:int,jitter_frac:float=0.08) -> list[int] : \n",
    "    if k<=0 :\n",
    "        return []\n",
    "    if k==1 : \n",
    "        return [random.randrange(n)]\n",
    "    anchors = [int(round(i*(n-1)/(k-1))) for i in range(k)]\n",
    "    out,seen = [],set()\n",
    "    radius = max(1,int(n*jitter_frac))\n",
    "    for a in anchors : \n",
    "        lo,hi = max(0,a-radius) , min(n-1,a+radius)\n",
    "        j = random.randint(lo,hi)\n",
    "        if j not in seen : \n",
    "            out.append(j);seen.add(j)\n",
    "    while len(out)<k : \n",
    "        r = random.randrange(n)\n",
    "        if r not in seen :\n",
    "            out.append(r),seen.add(r)\n",
    "    return out\n",
    "\n",
    "def _draw_boxed_chunk(c:dict,wrap_at:int=96) -> str : \n",
    "    header = (\n",
    "        f\"Chunk p{c['page_number']} -- idx {c['chunk_index']}  |  \"\n",
    "        f\"Chars {c['chunk_char_count']} -- words {c['chunk_word_count']} -- ~tokens {c['chunk_token_count']} \"\n",
    "    )\n",
    "    \n",
    "    wrapped_lines = textwrap.wrap(\n",
    "        c['chunk_text'],width=wrap_at,break_long_words=False,replace_whitespace=False\n",
    "    )\n",
    "    context_width = max([0,*map(len,wrapped_lines)])\n",
    "    box_width = max(len(header),context_width+2)\n",
    "    \n",
    "    top    = \"=\" + (box_width+4)*\"=\" + \"=\"\n",
    "    hline  = \"||\" + header.ljust(box_width) + \"  ||\"\n",
    "    sep    = \"||-\" + \"-\"*box_width + \"-||\"\n",
    "    body   = \"\\n\".join(\"||\" + line.ljust(box_width--2)+'||' for line in wrapped_lines) or \\\n",
    "        (\"||\"+\"\".ljust(box_width-2) + \"||\")\n",
    "    bottom = \"=\" + (box_width+4)*\"=\" + \"=\"\n",
    "    \n",
    "    return \"\\n\".join([top,hline,sep,body,bottom])\n",
    "\n",
    "def show_random_Semantic_chunks(pages_and_texts,max_chunk_size:int,min_chunk_size:int,k:int,seed:int | None = 42) : \n",
    "    if seed is not None : \n",
    "        random.seed(seed)\n",
    "    all_chunks = Recursive_chunk_pdf_pages(pages_and_texts,max_chunk_size=1000,min_chunk_size=100)\n",
    "    if not all_chunks : \n",
    "        print(f\"No chunks are available.\")\n",
    "        return\n",
    "    idxs = _scattered_indices(len(all_chunks),k)\n",
    "    print(f\"Showing {len(idxs)} scattered random chunks ou of {len(all_chunks)} in total:\\n \")\n",
    "    for i ,idx in enumerate(idxs,1):\n",
    "        print(f\"#{i}\")\n",
    "        print(_draw_boxed_chunk(all_chunks[idx]))\n",
    "        print()"
   ]
  },
  {
   "cell_type": "code",
   "execution_count": 20,
   "id": "77da6cfa",
   "metadata": {},
   "outputs": [
    {
     "data": {
      "application/vnd.jupyter.widget-view+json": {
       "model_id": "a25380eb255f4976838175d2d2402401",
       "version_major": 2,
       "version_minor": 0
      },
      "text/plain": [
       "Recursive chunking pages:   0%|          | 0/1112 [00:00<?, ?it/s]"
      ]
     },
     "metadata": {},
     "output_type": "display_data"
    },
    {
     "name": "stdout",
     "output_type": "stream",
     "text": [
      "Showing 2 scattered random chunks ou of 6117 in total:\n",
      " \n",
      "#1\n",
      "========================================================================================================\n",
      "||Chunk p60 -- idx 2  |  Chars 910 -- words 152 -- ~tokens 227.5                                      ||\n",
      "||----------------------------------------------------------------------------------------------------||\n",
      "||Using this value in the Goldman equation gives  a potential inside the membrane of −86              ||\n",
      "||millivolts, which is  near the potassium potential shown in the figure. Contribution of the         ||\n",
      "||Na+-K+ Pump. In Figure 5-5C,  the Na+-K+ pump is shown to provide an additional contri- bution      ||\n",
      "||to the resting potential. In this figure, there is con- tinuous pumping of three sodium ions to     ||\n",
      "||the outside for  each two potassium ions pumped to the inside of the mem- brane. The fact that      ||\n",
      "||more sodium ions are being pumped  to the outside than potassium to the inside causes con-          ||\n",
      "||tinual loss of positive charges from inside the membrane;  this creates an additional degree of     ||\n",
      "||negativity (about −4  millivolts additional) on the inside beyond that which can  be accounted      ||\n",
      "||for by diffusion alone. Therefore, as shown  in Figure 5-5C, the net membrane potential with all    ||\n",
      "||these  factors operative at the same time is about −90 millivolts.                                  ||\n",
      "========================================================================================================\n",
      "\n",
      "#2\n",
      "========================================================================================================\n",
      "||Chunk p1031 -- idx 4  |  Chars 812 -- words 135 -- ~tokens 203.0                                    ||\n",
      "||----------------------------------------------------------------------------------------------------||\n",
      "||The strength of a muscle is determined mainly by its  size, with a maximal contractile force        ||\n",
      "||between 3 and 4 kg/ cm2 of muscle cross-sectional area. Thus, a man who is well  supplied with      ||\n",
      "||testosterone or who has enlarged his muscles  through an exercise training program will have        ||\n",
      "||correspond- ingly increased muscle strength. To give an example of muscle strength, a world-        ||\n",
      "||class  weight lifter might have a quadriceps muscle with a cross- sectional area as great as 150    ||\n",
      "||square centimeters. This would  translate into a maximal contractile strength of 525 kilograms      ||\n",
      "||(or 1155 pounds), with all this force applied to the patellar  tendon. Therefore, one can           ||\n",
      "||readily understand how it is pos- sible for this tendon at times to be ruptured or actually to      ||\n",
      "||be  avulsed from its insertion into the tibia below the knee.                                       ||\n",
      "========================================================================================================\n",
      "\n"
     ]
    }
   ],
   "source": [
    "show_random_Semantic_chunks(pages_and_texts,max_chunk_size=1000,min_chunk_size=100,k=2,seed=42)"
   ]
  },
  {
   "cell_type": "markdown",
   "id": "62c8c951",
   "metadata": {},
   "source": [
    "### 4. LLM-based Chunking"
   ]
  },
  {
   "cell_type": "code",
   "execution_count": null,
   "id": "c3241435",
   "metadata": {},
   "outputs": [],
   "source": [
    "import requests\n",
    "from typing import List, Dict\n",
    "\n",
    "HF_API_URL = \"https://api-inference.huggingface.co/models/mistralai/Mistral-7B-Instruct\"\n",
    "HF_HEADERS = {\"Authorization\": \" ## Access Token ##\"}  # paste your token here\n",
    "\n",
    "def llm_based_chunking(text: str, chunk_size: int = 1000) -> List[Dict]:\n",
    "    \"\"\"\n",
    "    Using Hugging Face hosted LLM to find semantically coherent chunk boundaries\n",
    "    given a target chunk size.\n",
    "    \"\"\"\n",
    "    \n",
    "    def get_chunk_boundary(text_segment:str) -> int : \n",
    "        prompt = f\"\"\"\n",
    "            Analyze the following text and identify the best point to split it \n",
    "            into two semantically coherent parts.\n",
    "            The split should occur near {chunk_size} characters \n",
    "            Text:\n",
    "            \\\"\\\"\\\"{text_segment}\"\n",
    "            Return only the integer index (character position) within this text\n",
    "            where the split should occur.Do not return any explanation.\n",
    "            \"\"\"\n",
    "            \n",
    "        payload = {\"inputs\": prompt, \"parameters\": {\"max_new_tokens\": 20}}\n",
    "        response = requests.post(HF_API_URL, headers=HF_HEADERS, json=payload)\n",
    "        result = response.json()\n",
    "\n",
    "        if isinstance(result, list) and len(result) > 0 and \"generated_text\" in result[0]:\n",
    "            split_str = result[0][\"generated_text\"].strip()\n",
    "        else:\n",
    "            split_str = str(chunk_size)\n",
    "\n",
    "        try:\n",
    "            split_point = int(split_str)\n",
    "        except ValueError:\n",
    "            split_point = chunk_size\n",
    "\n",
    "        return split_point\n",
    "    chunks = []\n",
    "    remaining_text = text \n",
    "    while len(remaining_text) > chunk_size : \n",
    "        text_window = remaining_text[:chunk_size]\n",
    "        split_point  = get_chunk_boundary(text_window)\n",
    "        if split_point < 100 or split_point> len(text_window)-100 : \n",
    "            split_point = chunk_size\n",
    "        chunks.append(remaining_text[:split_point].strip())\n",
    "        remaining_text = remaining_text[split_point:].strip()\n",
    "    if remaining_text:\n",
    "        chunks.append(remaining_text)\n",
    "    return chunks"
   ]
  },
  {
   "cell_type": "code",
   "execution_count": 22,
   "id": "f6340af9",
   "metadata": {},
   "outputs": [],
   "source": [
    "def llm_based_chunk_pdf_pages(pages_and_texts:List[Dict],chunk_size:int=1000) -> List[Dict] : \n",
    "    all_chunks = []\n",
    "    for page in tqdm(pages_and_texts,desc=\"LLM based chunking pages\") : \n",
    "        page_number = page[\"page_number\"]\n",
    "        page_text = page[\"text\"]\n",
    "        \n",
    "        chunks = llm_based_chunking(page_text,chunk_size)\n",
    "        for i,chunk in enumerate(chunks) : \n",
    "            all_chunks.append({\n",
    "                \"page_number\":page_number,\n",
    "                \"chunk_index\" : i, \n",
    "                \"chunk_char_count\":  len(chunk),\n",
    "                \"chunk_word_count\" : len(chunk.split()),\n",
    "                \"chunk_token_count\": len(chunk)/4,\n",
    "                \"chunk_text\":chunk\n",
    "            })\n",
    "    return all_chunks\n"
   ]
  },
  {
   "cell_type": "code",
   "execution_count": 23,
   "id": "751d7170",
   "metadata": {},
   "outputs": [
    {
     "data": {
      "application/vnd.jupyter.widget-view+json": {
       "model_id": "7fe74c65f2094573b7a6ec00d75ef977",
       "version_major": 2,
       "version_minor": 0
      },
      "text/plain": [
       "LLM based chunking pages:   0%|          | 0/1112 [00:00<?, ?it/s]"
      ]
     },
     "metadata": {},
     "output_type": "display_data"
    }
   ],
   "source": [
    "llm_chunked_pages = llm_based_chunk_pdf_pages(pages_and_texts,1000)"
   ]
  },
  {
   "cell_type": "code",
   "execution_count": 24,
   "id": "464ff4e8",
   "metadata": {},
   "outputs": [
    {
     "name": "stdout",
     "output_type": "stream",
     "text": [
      "Total chunks: 5733\n",
      "Chunk sample (page 388) : e fact that the pK of this system is about  6.8. Under normal conditions, the urine is slightly acidic,  and the urine pH is near the pK of the phosphate buffer sys- tem. Therefore, in the tubules, the phosphate buffer system  normally functions near its most effective range of pH. Figure 30-7 shows the sequence of events by which H+  is excreted in combination with phosphate buffer and the  mechanism by which new HCO3 − is added to the blood.  The process of H+ secretion into the tubules is the same  as described earlier. As long as there is excess HCO3 − in  the tubular fluid, most of the secreted H+ combines with  HCO3 −. However, once all the HCO3 − has been reabsorbed  and is no longer available to combine with H+, any excess  H+ can combine with HPO4 = and other tubular buffers.  After the H+ combines with HPO4 = to form H2PO4 −, it can  be excreted as a sodium salt (NaH2PO4), carrying with it  the excess H+. There is one important difference in this sequence of  H+ excretion fro\n"
     ]
    }
   ],
   "source": [
    "print(f\"Total chunks: {len(llm_chunked_pages)}\")\n",
    "print(f\"Chunk sample (page {llm_chunked_pages[2000][\"page_number\"]}) : {llm_chunked_pages[2000][\"chunk_text\"]}\")"
   ]
  },
  {
   "cell_type": "code",
   "execution_count": 36,
   "id": "30bd4109",
   "metadata": {},
   "outputs": [
    {
     "data": {
      "text/plain": [
       "{'page_number': 94,\n",
       " 'chunk_index': 4,\n",
       " 'chunk_char_count': 141,\n",
       " 'chunk_word_count': 19,\n",
       " 'chunk_token_count': 35.25,\n",
       " 'chunk_text': 'moves the phosphate from MLC, leading to relaxation. Varicosities Gap junctions Visceral Multi-unit Figure 8-4\\u2002 Innervation of smooth muscle.'}"
      ]
     },
     "execution_count": 36,
     "metadata": {},
     "output_type": "execute_result"
    }
   ],
   "source": [
    "llm_chunked_pages[504]"
   ]
  },
  {
   "cell_type": "code",
   "execution_count": 37,
   "id": "c4601e50",
   "metadata": {},
   "outputs": [
    {
     "data": {
      "text/html": [
       "<div>\n",
       "<style scoped>\n",
       "    .dataframe tbody tr th:only-of-type {\n",
       "        vertical-align: middle;\n",
       "    }\n",
       "\n",
       "    .dataframe tbody tr th {\n",
       "        vertical-align: top;\n",
       "    }\n",
       "\n",
       "    .dataframe thead th {\n",
       "        text-align: right;\n",
       "    }\n",
       "</style>\n",
       "<table border=\"1\" class=\"dataframe\">\n",
       "  <thead>\n",
       "    <tr style=\"text-align: right;\">\n",
       "      <th></th>\n",
       "      <th>page_number</th>\n",
       "      <th>chunk_index</th>\n",
       "      <th>chunk_char_count</th>\n",
       "      <th>chunk_word_count</th>\n",
       "      <th>chunk_token_count</th>\n",
       "    </tr>\n",
       "  </thead>\n",
       "  <tbody>\n",
       "    <tr>\n",
       "      <th>count</th>\n",
       "      <td>5733.00</td>\n",
       "      <td>5733.00</td>\n",
       "      <td>5733.00</td>\n",
       "      <td>5733.00</td>\n",
       "      <td>5733.00</td>\n",
       "    </tr>\n",
       "    <tr>\n",
       "      <th>mean</th>\n",
       "      <td>556.98</td>\n",
       "      <td>2.33</td>\n",
       "      <td>896.46</td>\n",
       "      <td>140.70</td>\n",
       "      <td>224.11</td>\n",
       "    </tr>\n",
       "    <tr>\n",
       "      <th>std</th>\n",
       "      <td>320.50</td>\n",
       "      <td>1.76</td>\n",
       "      <td>248.84</td>\n",
       "      <td>40.55</td>\n",
       "      <td>62.21</td>\n",
       "    </tr>\n",
       "    <tr>\n",
       "      <th>min</th>\n",
       "      <td>-19.00</td>\n",
       "      <td>0.00</td>\n",
       "      <td>1.00</td>\n",
       "      <td>1.00</td>\n",
       "      <td>0.25</td>\n",
       "    </tr>\n",
       "    <tr>\n",
       "      <th>25%</th>\n",
       "      <td>279.00</td>\n",
       "      <td>1.00</td>\n",
       "      <td>999.00</td>\n",
       "      <td>144.00</td>\n",
       "      <td>249.75</td>\n",
       "    </tr>\n",
       "    <tr>\n",
       "      <th>50%</th>\n",
       "      <td>561.00</td>\n",
       "      <td>2.00</td>\n",
       "      <td>1000.00</td>\n",
       "      <td>154.00</td>\n",
       "      <td>250.00</td>\n",
       "    </tr>\n",
       "    <tr>\n",
       "      <th>75%</th>\n",
       "      <td>836.00</td>\n",
       "      <td>4.00</td>\n",
       "      <td>1000.00</td>\n",
       "      <td>162.00</td>\n",
       "      <td>250.00</td>\n",
       "    </tr>\n",
       "    <tr>\n",
       "      <th>max</th>\n",
       "      <td>1091.00</td>\n",
       "      <td>7.00</td>\n",
       "      <td>1000.00</td>\n",
       "      <td>263.00</td>\n",
       "      <td>250.00</td>\n",
       "    </tr>\n",
       "  </tbody>\n",
       "</table>\n",
       "</div>"
      ],
      "text/plain": [
       "       page_number  chunk_index  chunk_char_count  chunk_word_count  \\\n",
       "count      5733.00      5733.00           5733.00           5733.00   \n",
       "mean        556.98         2.33            896.46            140.70   \n",
       "std         320.50         1.76            248.84             40.55   \n",
       "min         -19.00         0.00              1.00              1.00   \n",
       "25%         279.00         1.00            999.00            144.00   \n",
       "50%         561.00         2.00           1000.00            154.00   \n",
       "75%         836.00         4.00           1000.00            162.00   \n",
       "max        1091.00         7.00           1000.00            263.00   \n",
       "\n",
       "       chunk_token_count  \n",
       "count            5733.00  \n",
       "mean              224.11  \n",
       "std                62.21  \n",
       "min                 0.25  \n",
       "25%               249.75  \n",
       "50%               250.00  \n",
       "75%               250.00  \n",
       "max               250.00  "
      ]
     },
     "execution_count": 37,
     "metadata": {},
     "output_type": "execute_result"
    }
   ],
   "source": [
    "df = pd.DataFrame(llm_chunked_pages)\n",
    "df.describe().round(2)"
   ]
  },
  {
   "cell_type": "code",
   "execution_count": 40,
   "id": "75caa17e",
   "metadata": {},
   "outputs": [
    {
     "data": {
      "text/html": [
       "<div>\n",
       "<style scoped>\n",
       "    .dataframe tbody tr th:only-of-type {\n",
       "        vertical-align: middle;\n",
       "    }\n",
       "\n",
       "    .dataframe tbody tr th {\n",
       "        vertical-align: top;\n",
       "    }\n",
       "\n",
       "    .dataframe thead th {\n",
       "        text-align: right;\n",
       "    }\n",
       "</style>\n",
       "<table border=\"1\" class=\"dataframe\">\n",
       "  <thead>\n",
       "    <tr style=\"text-align: right;\">\n",
       "      <th></th>\n",
       "      <th>page_number</th>\n",
       "      <th>chunk_index</th>\n",
       "      <th>chunk_char_count</th>\n",
       "      <th>chunk_word_count</th>\n",
       "      <th>chunk_token_count</th>\n",
       "    </tr>\n",
       "  </thead>\n",
       "  <tbody>\n",
       "    <tr>\n",
       "      <th>count</th>\n",
       "      <td>5538.00</td>\n",
       "      <td>5538.00</td>\n",
       "      <td>5538.00</td>\n",
       "      <td>5538.00</td>\n",
       "      <td>5538.00</td>\n",
       "    </tr>\n",
       "    <tr>\n",
       "      <th>mean</th>\n",
       "      <td>558.77</td>\n",
       "      <td>2.29</td>\n",
       "      <td>926.05</td>\n",
       "      <td>145.34</td>\n",
       "      <td>231.51</td>\n",
       "    </tr>\n",
       "    <tr>\n",
       "      <th>std</th>\n",
       "      <td>321.06</td>\n",
       "      <td>1.71</td>\n",
       "      <td>195.72</td>\n",
       "      <td>32.64</td>\n",
       "      <td>48.93</td>\n",
       "    </tr>\n",
       "    <tr>\n",
       "      <th>min</th>\n",
       "      <td>-17.00</td>\n",
       "      <td>0.00</td>\n",
       "      <td>122.00</td>\n",
       "      <td>16.00</td>\n",
       "      <td>30.50</td>\n",
       "    </tr>\n",
       "    <tr>\n",
       "      <th>25%</th>\n",
       "      <td>280.00</td>\n",
       "      <td>1.00</td>\n",
       "      <td>999.00</td>\n",
       "      <td>145.25</td>\n",
       "      <td>249.75</td>\n",
       "    </tr>\n",
       "    <tr>\n",
       "      <th>50%</th>\n",
       "      <td>563.00</td>\n",
       "      <td>2.00</td>\n",
       "      <td>1000.00</td>\n",
       "      <td>155.00</td>\n",
       "      <td>250.00</td>\n",
       "    </tr>\n",
       "    <tr>\n",
       "      <th>75%</th>\n",
       "      <td>839.00</td>\n",
       "      <td>4.00</td>\n",
       "      <td>1000.00</td>\n",
       "      <td>162.00</td>\n",
       "      <td>250.00</td>\n",
       "    </tr>\n",
       "    <tr>\n",
       "      <th>max</th>\n",
       "      <td>1091.00</td>\n",
       "      <td>7.00</td>\n",
       "      <td>1000.00</td>\n",
       "      <td>263.00</td>\n",
       "      <td>250.00</td>\n",
       "    </tr>\n",
       "  </tbody>\n",
       "</table>\n",
       "</div>"
      ],
      "text/plain": [
       "       page_number  chunk_index  chunk_char_count  chunk_word_count  \\\n",
       "count      5538.00      5538.00           5538.00           5538.00   \n",
       "mean        558.77         2.29            926.05            145.34   \n",
       "std         321.06         1.71            195.72             32.64   \n",
       "min         -17.00         0.00            122.00             16.00   \n",
       "25%         280.00         1.00            999.00            145.25   \n",
       "50%         563.00         2.00           1000.00            155.00   \n",
       "75%         839.00         4.00           1000.00            162.00   \n",
       "max        1091.00         7.00           1000.00            263.00   \n",
       "\n",
       "       chunk_token_count  \n",
       "count            5538.00  \n",
       "mean              231.51  \n",
       "std                48.93  \n",
       "min                30.50  \n",
       "25%               249.75  \n",
       "50%               250.00  \n",
       "75%               250.00  \n",
       "max               250.00  "
      ]
     },
     "execution_count": 40,
     "metadata": {},
     "output_type": "execute_result"
    }
   ],
   "source": [
    "llm_chunked_pages_min_token_len = df[df[\"chunk_token_count\"]>30]\n",
    "llm_chunked_pages_min_token_len.describe().round(2)"
   ]
  },
  {
   "cell_type": "code",
   "execution_count": 25,
   "id": "9d8c0ab8",
   "metadata": {},
   "outputs": [],
   "source": [
    "import random,textwrap \n",
    "# -------------------------Sampling & Pretty Printing--------------------------\n",
    "def _scattered_indices(n:int,k:int,jitter_frac:float=0.08) -> list[int] : \n",
    "    if k<=0 :\n",
    "        return []\n",
    "    if k==1 : \n",
    "        return [random.randrange(n)]\n",
    "    anchors = [int(round(i*(n-1)/(k-1))) for i in range(k)]\n",
    "    out,seen = [],set()\n",
    "    radius = max(1,int(n*jitter_frac))\n",
    "    for a in anchors : \n",
    "        lo,hi = max(0,a-radius) , min(n-1,a+radius)\n",
    "        j = random.randint(lo,hi)\n",
    "        if j not in seen : \n",
    "            out.append(j);seen.add(j)\n",
    "    while len(out)<k : \n",
    "        r = random.randrange(n)\n",
    "        if r not in seen :\n",
    "            out.append(r),seen.add(r)\n",
    "    return out\n",
    "\n",
    "def _draw_boxed_chunk(c:dict,wrap_at:int=96) -> str : \n",
    "    header = (\n",
    "        f\"Chunk p{c['page_number']} -- idx {c['chunk_index']}  |  \"\n",
    "        f\"Chars {c['chunk_char_count']} -- words {c['chunk_word_count']} -- ~tokens {c['chunk_token_count']} \"\n",
    "    )\n",
    "    \n",
    "    wrapped_lines = textwrap.wrap(\n",
    "        c['chunk_text'],width=wrap_at,break_long_words=False,replace_whitespace=False\n",
    "    )\n",
    "    context_width = max([0,*map(len,wrapped_lines)])\n",
    "    box_width = max(len(header),context_width+2)\n",
    "    \n",
    "    top    = \"=\" + (box_width+4)*\"=\" + \"=\"\n",
    "    hline  = \"||\" + header.ljust(box_width) + \"  ||\"\n",
    "    sep    = \"||-\" + \"-\"*box_width + \"-||\"\n",
    "    body   = \"\\n\".join(\"||\" + line.ljust(box_width--2)+'||' for line in wrapped_lines) or \\\n",
    "        (\"||\"+\"\".ljust(box_width-2) + \"||\")\n",
    "    bottom = \"=\" + (box_width+4)*\"=\" + \"=\"\n",
    "    \n",
    "    return \"\\n\".join([top,hline,sep,body,bottom])\n",
    "\n",
    "def show_random_Semantic_chunks(llm_chunked_pages,k:int) : \n",
    "    if not llm_chunked_pages : \n",
    "        print(f\"No chunks are available.\")\n",
    "        return\n",
    "    idxs = _scattered_indices(len(llm_chunked_pages),k)\n",
    "    print(f\"Showing {len(idxs)} scattered random chunks ou of {len(llm_chunked_pages)} in total:\\n \")\n",
    "    for i ,idx in enumerate(idxs,1):\n",
    "        print(f\"#{i}\")\n",
    "        print(_draw_boxed_chunk(llm_chunked_pages[idx]))\n",
    "        print()"
   ]
  },
  {
   "cell_type": "code",
   "execution_count": 26,
   "id": "02ba7be6",
   "metadata": {},
   "outputs": [
    {
     "name": "stdout",
     "output_type": "stream",
     "text": [
      "Showing 2 scattered random chunks ou of 5733 in total:\n",
      " \n",
      "#1\n",
      "========================================================================================================\n",
      "||Chunk p-13 -- idx 4  |  Chars 568 -- words 96 -- ~tokens 142.0                                      ||\n",
      "||----------------------------------------------------------------------------------------------------||\n",
      "||oughout the world have been  sought and then used to check factual accuracy as well as  balance     ||\n",
      "||in the text. Even so, because of the likelihood of  error in sorting through many thousands of      ||\n",
      "||bits of infor- mation, I wish to issue a further request to all readers to  send along notations    ||\n",
      "||of error or inaccuracy. Physiologists  understand the importance of feedback for proper func-       ||\n",
      "||tion of the human body; so, too, is feedback important for  progressive improvement of a            ||\n",
      "||textbook of physiology. To  the many persons who have already helped, I express sin- cere           ||\n",
      "||thanks.                                                                                             ||\n",
      "========================================================================================================\n",
      "\n",
      "#2\n",
      "========================================================================================================\n",
      "||Chunk p1079 -- idx 5  |  Chars 1000 -- words 153 -- ~tokens 250.0                                   ||\n",
      "||----------------------------------------------------------------------------------------------------||\n",
      "||, 713, 713f sleep and, 722 Rapid ejection, period of, 106 Rate of movement sense, 571, 580 Rate     ||\n",
      "||receptors, 563 Rathke’s pouch, 895 Reabsorption pressure, net, 185, 186 Reactive hyperemia, 194     ||\n",
      "||Reading, 700, 702, 704f, 705 Reagins, 443, 444 Receptor field, of nerve fiber, 564 Receptor         ||\n",
      "||potentials, 560–562, 561f of cochlear hair cells, 637–638 of rods, 612–613 of taste cells, 647      ||\n",
      "||Receptor proteins of olfactory cilium, 649, 649f postsynaptic, 547f, 548–550, 549f down-            ||\n",
      "||regulation or up-regulation of,  569–570 in taste villus, 647 Receptors, cell membrane, 14          ||\n",
      "||carbohydrates as, 14 phagocytosis and, 19 pinocytosis and, 18–19 Reciprocal inhibition, 566–567,    ||\n",
      "||567f, 663 flexor reflex and, 662, 662f, 663, 663f Reciprocal innervation, 663, 672 Recoil           ||\n",
      "||pressure, of lungs, 467 Red blood cell count, in neonate, 1024, 1024f Red blood cells               ||\n",
      "||(erythrocytes), 413–420 A and B antigens on, 445–447, 446f, 446t,  447t concentration of, in        ||\n",
      "||blood, 413 cortisol and, 931 destruction of, 840, 841 fetal, 1019, 1020 func                        ||\n",
      "========================================================================================================\n",
      "\n"
     ]
    }
   ],
   "source": [
    "show_random_Semantic_chunks(llm_chunked_pages,2) "
   ]
  },
  {
   "cell_type": "markdown",
   "id": "1051d909",
   "metadata": {},
   "source": [
    "## Analysis of chunking strategies"
   ]
  },
  {
   "cell_type": "code",
   "execution_count": null,
   "id": "bee2053c",
   "metadata": {},
   "outputs": [
    {
     "name": "stdout",
     "output_type": "stream",
     "text": [
      "      method  num_chunks  min_size  max_size   mean_size  median_size  \\\n",
      "0      fixed       31525         1       442   25.486503         22.0   \n",
      "1   semantic       31525         1       442   25.486503         22.0   \n",
      "2  recursive        6117         0       442  131.349027        140.0   \n",
      "3  llm_based        5733         1       263  140.695273        154.0   \n",
      "\n",
      "    std_size  \n",
      "0  20.447487  \n",
      "1  20.447487  \n",
      "2  38.240114  \n",
      "3  40.545493  \n"
     ]
    }
   ],
   "source": [
    "import numpy as np\n",
    "import matplotlib.pyplot as plt\n",
    "import pandas as pd\n",
    "\n",
    "METRIC = \"words\"\n",
    "def _size_val(c,metric:str):\n",
    "    if metric==\"chars\" : \n",
    "        return c.get(\"chunk_chars_count\",len(c.get(\"chunk_text\",\"\")))\n",
    "    if metric==\"words\" : \n",
    "        return c.get(\"chunk_words_count\",len(c.get(\"chunk_text\",\"\").split()))\n",
    "    if metric==\"tokens\" : \n",
    "        return c.get(\"chunk_token_count\",len(c.get(\"chunk_text\",\"\"))//4)\n",
    "    raise ValueError(f\"Unknown metric: {metric}\")\n",
    "def analyse_chunks(chunks:list[dict],method_name:str,metric:str) -> dict : \n",
    "    sizes = [_size_val(c,metric) for c in chunks]\n",
    "    return {\n",
    "        \"method\":method_name,\n",
    "        \"num_chunks\":len(sizes),\n",
    "        \"min_size\":np.min(sizes),\n",
    "        \"max_size\":np.max(sizes),   \n",
    "        \"mean_size\":np.mean(sizes) if sizes else 0,\n",
    "        \"median_size\":np.median(sizes) if sizes else 0,\n",
    "        \"std_size\":np.std(sizes) if sizes else 0,\n",
    "        \"sizes\":sizes\n",
    "    }\n",
    "    \n",
    "datasets = [\n",
    "        (\"fixed\",chunked_pages),\n",
    "        (\"semantic\",chunked_pages), \n",
    "        (\"recursive\",recursive_chunks),\n",
    "        (\"llm_based\",llm_chunked_pages)\n",
    "    ]\n",
    "analyses = [analyse_chunks(chunks,method,METRIC) for method,chunks in datasets]\n",
    "df = pd.DataFrame(analyses)\n",
    "print(df[[\"method\",\"num_chunks\",\"min_size\",\"max_size\",\"mean_size\",\"median_size\",\"std_size\"]])"
   ]
  },
  {
   "cell_type": "code",
   "execution_count": 29,
   "id": "c0ca85ff",
   "metadata": {},
   "outputs": [
    {
     "data": {
      "image/png": "[encoded data removed]",
      "text/plain": [
       "<Figure size 1800x500 with 4 Axes>"
      ]
     },
     "metadata": {},
     "output_type": "display_data"
    }
   ],
   "source": [
    "fig,axes = plt.subplots(1,4,figsize=(18,5))\n",
    "for ax,analysis in zip(axes,analyses) : \n",
    "    ax.hist(analysis[\"sizes\"],bins=30,alpha=0.7)\n",
    "    ax.set_title(f\"Chunk size distribution ({analysis['method']})\")\n",
    "    ax.set_xlabel(f\"Chunk size ({METRIC})\")\n",
    "    ax.set_ylabel(\"Frequency\")  \n"
   ]
  }
 ],
 "metadata": {
  "kernelspec": {
   "display_name": "Python 3",
   "language": "python",
   "name": "python3"
  },
  "language_info": {
   "codemirror_mode": {
    "name": "ipython",
    "version": 3
   },
   "file_extension": ".py",
   "mimetype": "text/x-python",
   "name": "python",
   "nbconvert_exporter": "python",
   "pygments_lexer": "ipython3",
   "version": "3.12.10"
  }
 },
 "nbformat": 4,
 "nbformat_minor": 5
}
